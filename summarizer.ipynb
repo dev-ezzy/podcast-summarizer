{
 "cells": [
  {
   "cell_type": "markdown",
   "metadata": {},
   "source": [
    "# PODCAST SUMMARIZER USING PYTHON  SCRIPT\n",
    "\n",
    "Importing libraries\n"
   ]
  },
  {
   "cell_type": "code",
   "execution_count": 2,
   "metadata": {},
   "outputs": [],
   "source": [
    "#importing libraries\n",
    "import pandas as pd\n",
    "import transformers\n",
    "import openai\n",
    "from transformers import BartTokenizer, BartForConditionalGeneration\n",
    "import os"
   ]
  },
  {
   "cell_type": "code",
   "execution_count": 3,
   "metadata": {},
   "outputs": [],
   "source": [
    "#specifying file path\n",
    "file_path = r\"116_diarized_timestamped_transcript.txt\""
   ]
  },
  {
   "cell_type": "code",
   "execution_count": 4,
   "metadata": {},
   "outputs": [],
   "source": [
    "import re\n",
    "\n",
    "def extract_topics_and_quotes(transcript_file):\n",
    "    with open(transcript_file, 'r', encoding='utf-8') as file:\n",
    "        transcript = file.read()\n",
    "\n",
    "    # Replace placeholders with actual details\n",
    "    guest_name = \"[Guest]\"\n",
    "    industry = \"[industry]\"\n",
    "    guest_background = \"[Guest's Background]\"\n",
    "    specific_topics = \"[specific topics]\"\n",
    "\n",
    "    # Extract quotes\n",
    "    quotes = re.findall(r'[\"\\'](.*?)[\"\\']', transcript)\n",
    "\n",
    "    # Extract major topics\n",
    "    topics = re.findall(r'(### .*?)(?=\\n|$)', transcript)\n",
    "\n",
    "    # Generate shownotes\n",
    "    shownotes = f\"### Who is {guest_name}\\n- Joe Rogan welcomes {guest_name}, a renowned {industry} known for {guest_background}. The conversation promises to delve into {specific_topics}, offering listeners a unique perspective from {guest_name}'s wealth of experience and knowledge.\\n\\n\"\n",
    "\n",
    "    for topic in topics:\n",
    "        # Extract time stamp\n",
    "        time_stamp = re.search(r'\\((\\d+:\\d+)\\)', topic).group(1)\n",
    "        # Add topic heading to shownotes\n",
    "        shownotes += f\"{topic}\\n\"\n",
    "        # Extract 3-4 bullet points for each topic\n",
    "        for _ in range(3):\n",
    "            bullet_point = input(f\"Enter bullet point for {topic}: \")\n",
    "            shownotes += f\"- {bullet_point}\\n\"\n",
    "\n",
    "    # Add memorable quotes to shownotes\n",
    "    shownotes += \"\\n### Memorable Quotes\\n\"\n",
    "    for quote in quotes[:5]:\n",
    "        speaker = guest_name if guest_name.lower() in quote.lower() else \"Joe Rogan\"\n",
    "        context = input(f\"Enter context for the quote '{quote}': \")\n",
    "        shownotes += f\"- '{quote}' - {speaker} ({context})\\n\"\n",
    "\n",
    "    # Write shownotes to a new file\n",
    "    with open('shownotes.md', 'w', encoding='utf-8') as output_file:\n",
    "        output_file.write(shownotes)\n",
    "\n",
    "if __name__ == \"__main__\":\n",
    "    #specifying file path\n",
    "    file_path = r\"116_diarized_timestamped_transcript.txt\"\n",
    "    extract_topics_and_quotes(file_path)\n"
   ]
  },
  {
   "cell_type": "code",
   "execution_count": null,
   "metadata": {},
   "outputs": [],
   "source": []
  }
 ],
 "metadata": {
  "kernelspec": {
   "display_name": "learn-env",
   "language": "python",
   "name": "python3"
  },
  "language_info": {
   "codemirror_mode": {
    "name": "ipython",
    "version": 3
   },
   "file_extension": ".py",
   "mimetype": "text/x-python",
   "name": "python",
   "nbconvert_exporter": "python",
   "pygments_lexer": "ipython3",
   "version": "3.11.5"
  }
 },
 "nbformat": 4,
 "nbformat_minor": 2
}
