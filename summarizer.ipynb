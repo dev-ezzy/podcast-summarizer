{
 "cells": [
  {
   "cell_type": "markdown",
   "metadata": {},
   "source": [
    "# PODCAST SUMMARIZER USING PYTHON  SCRIPT\n",
    "\n",
    "Importing libraries\n"
   ]
  },
  {
   "cell_type": "code",
   "execution_count": 2,
   "metadata": {},
   "outputs": [],
   "source": [
    "#importing libraries\n",
    "import pandas as pd\n",
    "import transformers\n",
    "import openai\n",
    "from transformers import BartTokenizer, BartForConditionalGeneration\n",
    "import os"
   ]
  },
  {
   "cell_type": "markdown",
   "metadata": {},
   "source": [
    "Parsing our data and reading the first five rows"
   ]
  },
  {
   "cell_type": "code",
   "execution_count": 11,
   "metadata": {},
   "outputs": [
    {
     "data": {
      "text/html": [
       "<div>\n",
       "<style scoped>\n",
       "    .dataframe tbody tr th:only-of-type {\n",
       "        vertical-align: middle;\n",
       "    }\n",
       "\n",
       "    .dataframe tbody tr th {\n",
       "        vertical-align: top;\n",
       "    }\n",
       "\n",
       "    .dataframe thead th {\n",
       "        text-align: right;\n",
       "    }\n",
       "</style>\n",
       "<table border=\"1\" class=\"dataframe\">\n",
       "  <thead>\n",
       "    <tr style=\"text-align: right;\">\n",
       "      <th></th>\n",
       "      <th>Speaker 0 (00:00:00,039-00:00:06,457): Podcast. Take it out. The Joe, Regan. Experience. Train my day, Joe Regan podcast, my day.</th>\n",
       "    </tr>\n",
       "  </thead>\n",
       "  <tbody>\n",
       "    <tr>\n",
       "      <th>0</th>\n",
       "      <td>Speaker 1 (00:00:11,273-00:00:13,492): George,...</td>\n",
       "    </tr>\n",
       "    <tr>\n",
       "      <th>1</th>\n",
       "      <td>Speaker 0 (00:00:14,959-00:00:15,399): Thank you.</td>\n",
       "    </tr>\n",
       "    <tr>\n",
       "      <th>2</th>\n",
       "      <td>Speaker 1 (00:00:15,399-00:00:16,579): What do...</td>\n",
       "    </tr>\n",
       "    <tr>\n",
       "      <th>3</th>\n",
       "      <td>Speaker 0 (00:00:16,878-00:00:21,456): Yeah. L...</td>\n",
       "    </tr>\n",
       "    <tr>\n",
       "      <th>4</th>\n",
       "      <td>Speaker 1 (00:00:21,916-00:00:24,455): Does it...</td>\n",
       "    </tr>\n",
       "    <tr>\n",
       "      <th>...</th>\n",
       "      <td>...</td>\n",
       "    </tr>\n",
       "    <tr>\n",
       "      <th>1013</th>\n",
       "      <td>Speaker 0 (01:57:11,752-01:57:26,583): I reall...</td>\n",
       "    </tr>\n",
       "    <tr>\n",
       "      <th>1014</th>\n",
       "      <td>Speaker 1 (01:57:26,583-01:57:31,260): Well, G...</td>\n",
       "    </tr>\n",
       "    <tr>\n",
       "      <th>1015</th>\n",
       "      <td>Speaker 0 (01:57:31,260-01:57:31,580): you, sir.</td>\n",
       "    </tr>\n",
       "    <tr>\n",
       "      <th>1016</th>\n",
       "      <td>Speaker 1 (01:57:31,580-01:57:34,619): Susan. ...</td>\n",
       "    </tr>\n",
       "    <tr>\n",
       "      <th>1017</th>\n",
       "      <td>Speaker 1 (01:57:34,619-01:57:36,359): Alright...</td>\n",
       "    </tr>\n",
       "  </tbody>\n",
       "</table>\n",
       "<p>1018 rows × 1 columns</p>\n",
       "</div>"
      ],
      "text/plain": [
       "     Speaker 0 (00:00:00,039-00:00:06,457): Podcast. Take it out. The Joe, Regan. Experience. Train my day, Joe Regan podcast, my day.\n",
       "0     Speaker 1 (00:00:11,273-00:00:13,492): George,...                                                                               \n",
       "1     Speaker 0 (00:00:14,959-00:00:15,399): Thank you.                                                                               \n",
       "2     Speaker 1 (00:00:15,399-00:00:16,579): What do...                                                                               \n",
       "3     Speaker 0 (00:00:16,878-00:00:21,456): Yeah. L...                                                                               \n",
       "4     Speaker 1 (00:00:21,916-00:00:24,455): Does it...                                                                               \n",
       "...                                                 ...                                                                               \n",
       "1013  Speaker 0 (01:57:11,752-01:57:26,583): I reall...                                                                               \n",
       "1014  Speaker 1 (01:57:26,583-01:57:31,260): Well, G...                                                                               \n",
       "1015   Speaker 0 (01:57:31,260-01:57:31,580): you, sir.                                                                               \n",
       "1016  Speaker 1 (01:57:31,580-01:57:34,619): Susan. ...                                                                               \n",
       "1017  Speaker 1 (01:57:34,619-01:57:36,359): Alright...                                                                               \n",
       "\n",
       "[1018 rows x 1 columns]"
      ]
     },
     "execution_count": 11,
     "metadata": {},
     "output_type": "execute_result"
    }
   ],
   "source": [
    "#specifying file path\n",
    "text_data = pd.read_csv(\"116_diarized_timestamped_transcript.txt\", delimiter=\"\\t\")\n",
    "text_data"
   ]
  },
  {
   "cell_type": "code",
   "execution_count": null,
   "metadata": {},
   "outputs": [],
   "source": []
  }
 ],
 "metadata": {
  "kernelspec": {
   "display_name": "learn-env",
   "language": "python",
   "name": "python3"
  },
  "language_info": {
   "codemirror_mode": {
    "name": "ipython",
    "version": 3
   },
   "file_extension": ".py",
   "mimetype": "text/x-python",
   "name": "python",
   "nbconvert_exporter": "python",
   "pygments_lexer": "ipython3",
   "version": "3.11.5"
  }
 },
 "nbformat": 4,
 "nbformat_minor": 2
}
