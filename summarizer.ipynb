{
 "cells": [
  {
   "cell_type": "markdown",
   "metadata": {},
   "source": [
    "# PODCAST SUMMARIZER USING PYTHON  SCRIPT\n",
    "\n",
    "Importing libraries\n"
   ]
  },
  {
   "cell_type": "code",
   "execution_count": 1,
   "metadata": {},
   "outputs": [],
   "source": [
    "#importing libraries\n",
    "import pandas as pd\n",
    "import transformers\n",
    "import openai\n",
    "from transformers import BartTokenizer, BartForConditionalGeneration\n",
    "import os"
   ]
  },
  {
   "cell_type": "code",
   "execution_count": null,
   "metadata": {},
   "outputs": [],
   "source": [
    "\n",
    "\n",
    "openai.api_key = \"YOUR_OPENAI_API_KEY\"\n",
    "\n",
    "def summarize_podcast(podcast_transcript, max_tokens=4096):\n",
    "    prompt = f\"Summarize the following podcast transcript:\\n\\n{podcast_transcript}\"\n",
    "\n",
    "    response = openai.Completion.create(\n",
    "        engine=\"text-davinci-002\",  # GPT-3.5\n",
    "        prompt=prompt,\n",
    "        max_tokens=max_tokens,\n",
    "        temperature=0.7,\n",
    "    )\n",
    "\n",
    "    return response.choices[0].text.strip()\n",
    "\n",
    "# Example podcast transcript (replace this with your actual transcript)\n",
    "podcast_transcript = \"\"\"\n",
    "Your long podcast transcript here...\n",
    "\"\"\"\n",
    "\n",
    "# Summarize the podcast\n",
    "summary = summarize_podcast(podcast_transcript)\n",
    "print(summary)\n"
   ]
  },
  {
   "cell_type": "code",
   "execution_count": 3,
   "metadata": {},
   "outputs": [
    {
     "name": "stderr",
     "output_type": "stream",
     "text": [
      "model.safetensors:  37%|███▋      | 608M/1.63G [05:24<05:25, 3.13MB/s] "
     ]
    }
   ],
   "source": [
    "#specifying file path\n",
    "file_path = r\"116_diarized_timestamped_transcript.txt\"\n",
    "\n",
    "\n",
    "def summarize_podcast(file_path, max_input_length=1024, max_output_length=150):\n",
    "    # Load the podcast transcript from the text file\n",
    "    with open(file_path, 'r', encoding='utf-8') as file:\n",
    "        podcast_transcript = file.read()\n",
    "\n",
    "    # Tokenize and truncate the input text\n",
    "    tokenizer = BartTokenizer.from_pretrained(\"facebook/bart-large-cnn\")\n",
    "    inputs = tokenizer(podcast_transcript, max_length=max_input_length, return_tensors=\"pt\", truncation=True)\n",
    "\n",
    "    # Load pre-trained BART model\n",
    "    model = BartForConditionalGeneration.from_pretrained(\"facebook/bart-large-cnn\")\n",
    "\n",
    "    # Generate the summary\n",
    "    summary_ids = model.generate(inputs.input_ids, max_length=max_output_length, num_beams=4, length_penalty=2.0, early_stopping=True)\n",
    "    summary = tokenizer.decode(summary_ids[0], skip_special_tokens=True)\n",
    "\n",
    "    return summary\n",
    "\n",
    "# Example usage\n",
    "# file_path = \"path/to/your/podcast_transcript.txt\"\n",
    "summary = summarize_podcast(file_path)\n",
    "print(summary)\n"
   ]
  },
  {
   "cell_type": "code",
   "execution_count": null,
   "metadata": {},
   "outputs": [],
   "source": []
  }
 ],
 "metadata": {
  "kernelspec": {
   "display_name": "learn-env",
   "language": "python",
   "name": "python3"
  },
  "language_info": {
   "codemirror_mode": {
    "name": "ipython",
    "version": 3
   },
   "file_extension": ".py",
   "mimetype": "text/x-python",
   "name": "python",
   "nbconvert_exporter": "python",
   "pygments_lexer": "ipython3",
   "version": "3.8.5"
  }
 },
 "nbformat": 4,
 "nbformat_minor": 2
}
