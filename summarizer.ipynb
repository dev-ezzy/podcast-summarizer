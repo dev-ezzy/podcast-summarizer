{
 "cells": [
  {
   "cell_type": "markdown",
   "metadata": {},
   "source": [
    "# PODCAST SUMMARIZER USING PYTHON  SCRIPT\n",
    "\n",
    "Importing libraries\n"
   ]
  },
  {
   "cell_type": "code",
   "execution_count": 2,
   "metadata": {},
   "outputs": [],
   "source": [
    "#importing libraries\n",
    "import pandas as pd\n",
    "import transformers\n",
    "import openai\n",
    "from transformers import BartTokenizer, BartForConditionalGeneration\n",
    "import os"
   ]
  },
  {
   "cell_type": "markdown",
   "metadata": {},
   "source": [
    "Parsing our data and reading the first five rows"
   ]
  },
  {
   "cell_type": "code",
   "execution_count": 11,
   "metadata": {},
   "outputs": [
    {
     "data": {
      "text/html": [
       "<div>\n",
       "<style scoped>\n",
       "    .dataframe tbody tr th:only-of-type {\n",
       "        vertical-align: middle;\n",
       "    }\n",
       "\n",
       "    .dataframe tbody tr th {\n",
       "        vertical-align: top;\n",
       "    }\n",
       "\n",
       "    .dataframe thead th {\n",
       "        text-align: right;\n",
       "    }\n",
       "</style>\n",
       "<table border=\"1\" class=\"dataframe\">\n",
       "  <thead>\n",
       "    <tr style=\"text-align: right;\">\n",
       "      <th></th>\n",
       "      <th>Speaker 0 (00:00:00,039-00:00:06,457): Podcast. Take it out. The Joe, Regan. Experience. Train my day, Joe Regan podcast, my day.</th>\n",
       "    </tr>\n",
       "  </thead>\n",
       "  <tbody>\n",
       "    <tr>\n",
       "      <th>0</th>\n",
       "      <td>Speaker 1 (00:00:11,273-00:00:13,492): George,...</td>\n",
       "    </tr>\n",
       "    <tr>\n",
       "      <th>1</th>\n",
       "      <td>Speaker 0 (00:00:14,959-00:00:15,399): Thank you.</td>\n",
       "    </tr>\n",
       "    <tr>\n",
       "      <th>2</th>\n",
       "      <td>Speaker 1 (00:00:15,399-00:00:16,579): What do...</td>\n",
       "    </tr>\n",
       "    <tr>\n",
       "      <th>3</th>\n",
       "      <td>Speaker 0 (00:00:16,878-00:00:21,456): Yeah. L...</td>\n",
       "    </tr>\n",
       "    <tr>\n",
       "      <th>4</th>\n",
       "      <td>Speaker 1 (00:00:21,916-00:00:24,455): Does it...</td>\n",
       "    </tr>\n",
       "    <tr>\n",
       "      <th>...</th>\n",
       "      <td>...</td>\n",
       "    </tr>\n",
       "    <tr>\n",
       "      <th>1013</th>\n",
       "      <td>Speaker 0 (01:57:11,752-01:57:26,583): I reall...</td>\n",
       "    </tr>\n",
       "    <tr>\n",
       "      <th>1014</th>\n",
       "      <td>Speaker 1 (01:57:26,583-01:57:31,260): Well, G...</td>\n",
       "    </tr>\n",
       "    <tr>\n",
       "      <th>1015</th>\n",
       "      <td>Speaker 0 (01:57:31,260-01:57:31,580): you, sir.</td>\n",
       "    </tr>\n",
       "    <tr>\n",
       "      <th>1016</th>\n",
       "      <td>Speaker 1 (01:57:31,580-01:57:34,619): Susan. ...</td>\n",
       "    </tr>\n",
       "    <tr>\n",
       "      <th>1017</th>\n",
       "      <td>Speaker 1 (01:57:34,619-01:57:36,359): Alright...</td>\n",
       "    </tr>\n",
       "  </tbody>\n",
       "</table>\n",
       "<p>1018 rows × 1 columns</p>\n",
       "</div>"
      ],
      "text/plain": [
       "     Speaker 0 (00:00:00,039-00:00:06,457): Podcast. Take it out. The Joe, Regan. Experience. Train my day, Joe Regan podcast, my day.\n",
       "0     Speaker 1 (00:00:11,273-00:00:13,492): George,...                                                                               \n",
       "1     Speaker 0 (00:00:14,959-00:00:15,399): Thank you.                                                                               \n",
       "2     Speaker 1 (00:00:15,399-00:00:16,579): What do...                                                                               \n",
       "3     Speaker 0 (00:00:16,878-00:00:21,456): Yeah. L...                                                                               \n",
       "4     Speaker 1 (00:00:21,916-00:00:24,455): Does it...                                                                               \n",
       "...                                                 ...                                                                               \n",
       "1013  Speaker 0 (01:57:11,752-01:57:26,583): I reall...                                                                               \n",
       "1014  Speaker 1 (01:57:26,583-01:57:31,260): Well, G...                                                                               \n",
       "1015   Speaker 0 (01:57:31,260-01:57:31,580): you, sir.                                                                               \n",
       "1016  Speaker 1 (01:57:31,580-01:57:34,619): Susan. ...                                                                               \n",
       "1017  Speaker 1 (01:57:34,619-01:57:36,359): Alright...                                                                               \n",
       "\n",
       "[1018 rows x 1 columns]"
      ]
     },
     "execution_count": 11,
     "metadata": {},
     "output_type": "execute_result"
    }
   ],
   "source": [
    "#specifying file path\n",
    "text_data = pd.read_csv(\"116_diarized_timestamped_transcript.txt\", delimiter=\"\\t\")\n",
    "text_data"
   ]
  },
  {
   "cell_type": "code",
   "execution_count": 14,
   "metadata": {},
   "outputs": [
    {
     "name": "stderr",
     "output_type": "stream",
     "text": [
      "[nltk_data] Downloading package punkt to /home/scientist-\n",
      "[nltk_data]     ezzy/nltk_data...\n",
      "[nltk_data]   Package punkt is already up-to-date!\n"
     ]
    },
    {
     "ename": "KeyError",
     "evalue": "None",
     "output_type": "error",
     "traceback": [
      "\u001b[0;31m---------------------------------------------------------------------------\u001b[0m",
      "\u001b[0;31mKeyError\u001b[0m                                  Traceback (most recent call last)",
      "Cell \u001b[0;32mIn[14], line 35\u001b[0m\n\u001b[1;32m     32\u001b[0m     \u001b[38;5;28;01mreturn\u001b[39;00m summary\n\u001b[1;32m     34\u001b[0m \u001b[38;5;66;03m# Generate the summary\u001b[39;00m\n\u001b[0;32m---> 35\u001b[0m summary \u001b[38;5;241m=\u001b[39m \u001b[43msummarize_by_speaker\u001b[49m\u001b[43m(\u001b[49m\u001b[43msentences\u001b[49m\u001b[43m)\u001b[49m\n\u001b[1;32m     37\u001b[0m \u001b[38;5;66;03m# Write the summary to a text file\u001b[39;00m\n\u001b[1;32m     38\u001b[0m \u001b[38;5;28;01mwith\u001b[39;00m \u001b[38;5;28mopen\u001b[39m(\u001b[38;5;124m\"\u001b[39m\u001b[38;5;124mpodcast_summary.txt\u001b[39m\u001b[38;5;124m\"\u001b[39m, \u001b[38;5;124m\"\u001b[39m\u001b[38;5;124mw\u001b[39m\u001b[38;5;124m\"\u001b[39m) \u001b[38;5;28;01mas\u001b[39;00m f:\n",
      "Cell \u001b[0;32mIn[14], line 26\u001b[0m, in \u001b[0;36msummarize_by_speaker\u001b[0;34m(sentences)\u001b[0m\n\u001b[1;32m     23\u001b[0m         speakers[current_speaker] \u001b[38;5;241m=\u001b[39m []\n\u001b[1;32m     24\u001b[0m     \u001b[38;5;28;01melse\u001b[39;00m:\n\u001b[1;32m     25\u001b[0m         \u001b[38;5;66;03m#Add sentence to the current speaker's summary\u001b[39;00m\n\u001b[0;32m---> 26\u001b[0m         \u001b[43mspeakers\u001b[49m\u001b[43m[\u001b[49m\u001b[43mcurrent_speaker\u001b[49m\u001b[43m]\u001b[49m\u001b[38;5;241m.\u001b[39mappend(sentence)\n\u001b[1;32m     28\u001b[0m \u001b[38;5;66;03m# Generate summaries for each speaker\u001b[39;00m\n\u001b[1;32m     29\u001b[0m \u001b[38;5;28;01mfor\u001b[39;00m speaker, speaker_sentences \u001b[38;5;129;01min\u001b[39;00m speakers\u001b[38;5;241m.\u001b[39mitems():\n",
      "\u001b[0;31mKeyError\u001b[0m: None"
     ]
    }
   ],
   "source": [
    "import nltk\n",
    "from nltk.tokenize import sent_tokenize\n",
    "\n",
    "# Download necessary NLTK resources if not already present\n",
    "nltk.download('punkt')\n",
    "\n",
    "# Define the transcript text\n",
    "transcript = \"116_diarized_timestamped_transcript.txt\"\n",
    "\n",
    "# Tokenize the transcript into sentences\n",
    "sentences = sent_tokenize(transcript)\n",
    "\n",
    "# Define a function to identify and summarize sections by speaker\n",
    "def summarize_by_speaker(sentences):\n",
    "    speakers = {}\n",
    "    current_speaker = None\n",
    "    summary = \"\"\n",
    "    for sentence in sentences:\n",
    "        # Identify speaker based on name at the beginning of the sentence\n",
    "        if sentence.startswith(\"Speaker\"):\n",
    "            speaker, _ = sentence.split(\":\", 1)\n",
    "            current_speaker = speaker.strip()\n",
    "            speakers[current_speaker] = []\n",
    "        else:\n",
    "            #Add sentence to the current speaker's summary\n",
    "            speakers[current_speaker].append(sentence)\n",
    "\n",
    "    # Generate summaries for each speaker\n",
    "    for speaker, speaker_sentences in speakers.items():\n",
    "        speaker_summary = \" \".join(speaker_sentences)\n",
    "        summary += f\"\\n**{speaker}** (00:00:00,000-00:00:00,000): {speaker_summary}\"\n",
    "    return summary\n",
    "\n",
    "# Generate the summary\n",
    "summary = summarize_by_speaker(sentences)\n",
    "\n",
    "# Write the summary to a text file\n",
    "with open(\"podcast_summary.txt\", \"w\") as f:\n",
    "    f.write(summary)\n",
    "\n",
    "print(\"Summary written to podcast_summary.txt\")\n"
   ]
  },
  {
   "cell_type": "code",
   "execution_count": null,
   "metadata": {},
   "outputs": [],
   "source": []
  }
 ],
 "metadata": {
  "kernelspec": {
   "display_name": "learn-env",
   "language": "python",
   "name": "python3"
  },
  "language_info": {
   "codemirror_mode": {
    "name": "ipython",
    "version": 3
   },
   "file_extension": ".py",
   "mimetype": "text/x-python",
   "name": "python",
   "nbconvert_exporter": "python",
   "pygments_lexer": "ipython3",
   "version": "3.11.5"
  }
 },
 "nbformat": 4,
 "nbformat_minor": 2
}
