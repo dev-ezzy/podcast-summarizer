{
 "cells": [
  {
   "cell_type": "markdown",
   "metadata": {},
   "source": [
    "# PODCAST SUMMARIZER USING PYTHON  SCRIPT\n",
    "\n",
    "Importing libraries\n"
   ]
  },
  {
   "cell_type": "code",
   "execution_count": 1,
   "metadata": {},
   "outputs": [],
   "source": [
    "#importing libraries\n",
    "import pandas as pd\n",
    "import transformers\n",
    "import openai\n",
    "from transformers import BartTokenizer, BartForConditionalGeneration\n",
    "import os"
   ]
  },
  {
   "cell_type": "code",
   "execution_count": null,
   "metadata": {},
   "outputs": [],
   "source": [
    "\n",
    "\n",
    "openai.api_key = \"YOUR_OPENAI_API_KEY\"\n",
    "\n",
    "def summarize_podcast(podcast_transcript, max_tokens=4096):\n",
    "    prompt = f\"Summarize the following podcast transcript:\\n\\n{podcast_transcript}\"\n",
    "\n",
    "    response = openai.Completion.create(\n",
    "        engine=\"text-davinci-002\",  # GPT-3.5\n",
    "        prompt=prompt,\n",
    "        max_tokens=max_tokens,\n",
    "        temperature=0.7,\n",
    "    )\n",
    "\n",
    "    return response.choices[0].text.strip()\n",
    "\n",
    "# Example podcast transcript (replace this with your actual transcript)\n",
    "podcast_transcript = \"\"\"\n",
    "Your long podcast transcript here...\n",
    "\"\"\"\n",
    "\n",
    "# Summarize the podcast\n",
    "summary = summarize_podcast(podcast_transcript)\n",
    "print(summary)\n"
   ]
  },
  {
   "cell_type": "code",
   "execution_count": 15,
   "metadata": {},
   "outputs": [
    {
     "name": "stdout",
     "output_type": "stream",
     "text": [
      "George Regan was a huge underdog in his fight against Richard Changuo. Regan says he's had a vision for so long to be a professional boxer. He says he had a big moment in the sun before the fight, but he wasn't letting it happen yet.\n"
     ]
    }
   ],
   "source": [
    "#specifying file path\n",
    "file_path = r\"116_diarized_timestamped_transcript.txt\"\n",
    "\n",
    "\n",
    "def summarize_podcast(file_path, max_input_length= 1024, max_output_length= 500):\n",
    "    # Load the podcast transcript from the text file\n",
    "    with open(file_path, 'r', encoding='utf-8') as file:\n",
    "        podcast_transcript = file.read()\n",
    "\n",
    "    # Tokenize and truncate the input text\n",
    "    tokenizer = BartTokenizer.from_pretrained(\"facebook/bart-large-cnn\")\n",
    "    inputs = tokenizer(podcast_transcript, max_length=max_input_length, return_tensors=\"pt\", truncation=True)\n",
    "\n",
    "    # Load pre-trained BART model\n",
    "    model = BartForConditionalGeneration.from_pretrained(\"facebook/bart-large-cnn\")\n",
    "\n",
    "    # Generate the summary\n",
    "    summary_ids = model.generate(inputs.input_ids, max_length=max_output_length, num_beams=4, length_penalty=2.0, early_stopping=True)\n",
    "    summary = tokenizer.decode(summary_ids[0], skip_special_tokens=True)\n",
    "\n",
    "    return summary\n",
    "\n",
    "# Example usage\n",
    "# file_path = \"path/to/your/podcast_transcript.txt\"\n",
    "summary = summarize_podcast(file_path)\n",
    "print(summary)\n"
   ]
  },
  {
   "cell_type": "code",
   "execution_count": 1,
   "metadata": {},
   "outputs": [],
   "source": [
    "#specifying file path\n",
    "file_path = r\"116_diarized_timestamped_transcript.txt\""
   ]
  },
  {
   "cell_type": "code",
   "execution_count": 3,
   "metadata": {},
   "outputs": [],
   "source": [
    "import re\n",
    "\n",
    "def extract_topics_and_quotes(transcript_file):\n",
    "    with open(transcript_file, 'r', encoding='utf-8') as file:\n",
    "        transcript = file.read()\n",
    "\n",
    "    # Replace placeholders with actual details\n",
    "    guest_name = \"[Guest]\"\n",
    "    industry = \"[industry]\"\n",
    "    guest_background = \"[Guest's Background]\"\n",
    "    specific_topics = \"[specific topics]\"\n",
    "\n",
    "    # Extract quotes\n",
    "    quotes = re.findall(r'[\"\\'](.*?)[\"\\']', transcript)\n",
    "\n",
    "    # Extract major topics\n",
    "    topics = re.findall(r'(### .*?)(?=\\n|$)', transcript)\n",
    "\n",
    "    # Generate shownotes\n",
    "    shownotes = f\"### Who is {guest_name}\\n- Joe Rogan welcomes {guest_name}, a renowned {industry} known for {guest_background}. The conversation promises to delve into {specific_topics}, offering listeners a unique perspective from {guest_name}'s wealth of experience and knowledge.\\n\\n\"\n",
    "\n",
    "    for topic in topics:\n",
    "        # Extract time stamp\n",
    "        time_stamp = re.search(r'\\((\\d+:\\d+)\\)', topic).group(1)\n",
    "        # Add topic heading to shownotes\n",
    "        shownotes += f\"{topic}\\n\"\n",
    "        # Extract 3-4 bullet points for each topic\n",
    "        for _ in range(3):\n",
    "            bullet_point = input(f\"Enter bullet point for {topic}: \")\n",
    "            shownotes += f\"- {bullet_point}\\n\"\n",
    "\n",
    "    # Add memorable quotes to shownotes\n",
    "    shownotes += \"\\n### Memorable Quotes\\n\"\n",
    "    for quote in quotes[:5]:\n",
    "        speaker = guest_name if guest_name.lower() in quote.lower() else \"Joe Rogan\"\n",
    "        context = input(f\"Enter context for the quote '{quote}': \")\n",
    "        shownotes += f\"- '{quote}' - {speaker} ({context})\\n\"\n",
    "\n",
    "    # Write shownotes to a new file\n",
    "    with open('shownotes.md', 'w', encoding='utf-8') as output_file:\n",
    "        output_file.write(shownotes)\n",
    "\n",
    "if __name__ == \"__main__\":\n",
    "    #specifying file path\n",
    "    file_path = r\"116_diarized_timestamped_transcript.txt\"\n",
    "    extract_topics_and_quotes(file_path)\n"
   ]
  },
  {
   "cell_type": "code",
   "execution_count": 10,
   "metadata": {},
   "outputs": [],
   "source": [
    "import re\n",
    "\n",
    "def parse_transcript(transcript_file):\n",
    "    with open(transcript_file, 'r', encoding='utf-8') as file:\n",
    "        lines = file.readlines()\n",
    "\n",
    "    sections = []\n",
    "    current_section = None\n",
    "\n",
    "    for line in lines:\n",
    "        if re.match(r'^[A-Z][a-z]+\\s[\\'A-Za-z]+', line):\n",
    "            if current_section:\n",
    "                sections.append(current_section)\n",
    "            current_section = {'title': line.strip(), 'timestamps': []}\n",
    "        elif re.match(r'^[0-9]{2}:[0-9]{2}:[0-9]{2}', line):\n",
    "            time_stamp, speaker, *words = line.split()\n",
    "            current_section['timestamps'].append((f\"{time_stamp} {speaker}\", ' '.join(words).strip()))\n",
    "\n",
    "    if current_section:\n",
    "        sections.append(current_section)\n",
    "\n",
    "    return sections\n",
    "\n",
    "def generate_summary(sections):\n",
    "    summary = \"\"\n",
    "    \n",
    "    for section in sections:\n",
    "        summary += f\"{section['title']}\\n\"\n",
    "        \n",
    "        if 'timestamps' in section:\n",
    "            for timestamp, content in section['timestamps']:\n",
    "                summary += f\"- {content} ({timestamp})\\n\"\n",
    "        \n",
    "        summary += '\\n'\n",
    "\n",
    "    return summary\n",
    "\n",
    "if __name__ == \"__main__\":\n",
    "    transcript_file = \"path/to/podcast_transcript.txt\"\n",
    "    podcast_sections = parse_transcript(transcript_file)\n",
    "    \n",
    "    for section in podcast_sections:\n",
    "        print(section)\n",
    "\n",
    "    podcast_summary = generate_summary(podcast_sections)\n",
    "\n",
    "    with open(\"podcast_summary.txt\", 'w', encoding='utf-8') as output_file:\n",
    "        output_file.write(podcast_summary)\n"
   ]
  },
  {
   "cell_type": "code",
   "execution_count": null,
   "metadata": {},
   "outputs": [],
   "source": []
  }
 ],
 "metadata": {
  "kernelspec": {
   "display_name": "learn-env",
   "language": "python",
   "name": "python3"
  },
  "language_info": {
   "codemirror_mode": {
    "name": "ipython",
    "version": 3
   },
   "file_extension": ".py",
   "mimetype": "text/x-python",
   "name": "python",
   "nbconvert_exporter": "python",
   "pygments_lexer": "ipython3",
   "version": "3.8.5"
  }
 },
 "nbformat": 4,
 "nbformat_minor": 2
}
